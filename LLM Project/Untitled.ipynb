{
 "cells": [
  {
   "cell_type": "code",
   "execution_count": 14,
   "id": "d4ce7e88-f028-40e3-ac14-ad7bffa97fb1",
   "metadata": {},
   "outputs": [
    {
     "name": "stdout",
     "output_type": "stream",
     "text": [
      "Total number of character: 61316\n",
      "A cock was once strutting up and down the farmyard among the hens when\n",
      "suddenly he espied something\n"
     ]
    }
   ],
   "source": [
    "#Open command opens the file selected. R means read. We can refer to the file (whenever we have to) by referring to f\n",
    "with open(\"Fables.txt\", \"r\", encoding=\"utf-8\") as f:\n",
    "    #raw text has all of the text\n",
    "    raw_text = f.read()\n",
    "\n",
    "print(\"Total number of character:\", len(raw_text))\n",
    "print(raw_text[:99])"
   ]
  },
  {
   "cell_type": "markdown",
   "id": "4248b25d-bc90-4d42-af0d-782a00541d61",
   "metadata": {},
   "source": [
    "## For splitting the text into tokens, we will be using the regular expressions library. Imported as re\n",
    "\n",
    "### The split function, by default splits words only, however, if you want whitspaces or commas or full spots to be split off on their own, you follow the second split function in this code terminal. In this case you also surround the stuff you want to split in the parenthesis as is done in the second example\n",
    "\n",
    "### In the opposite of this, if you don't want whitespaces or commos or full stops to be included in your split, you don't surround them in parenthesis. As is done in example 3. The empty '' in the middle represent where the punctuation touched a word with no space in between.\n",
    "\n",
    "### Last example is the default .split() method that ignores all the whitespace and attached the puntuations to the words"
   ]
  },
  {
   "cell_type": "code",
   "execution_count": 12,
   "id": "e396f7ba-eeee-4267-9d50-dd036fe124a0",
   "metadata": {},
   "outputs": [
    {
     "name": "stdout",
     "output_type": "stream",
     "text": [
      "This is the result of splitting when you split only according to whitespces-->\n",
      "\n",
      "['Hello,', ' ', 'this', ' ', 'is', ' ', 'to', ' ', 'be', ' ', 'split', ' ', 'into', ' ', 'tokens.', ' ', 'Every', ' ', 'time', ' ', 'a', ' ', 'whitespace', ' ', 'is', ' ', 'encountered,', ' ', 'a', ' ', 'split', ' ', 'is', ' ', 'done.']\n",
      "\n",
      "\n",
      "\n",
      "This is the result of splotting when you want to with multiple things-->\n",
      "\n",
      "['Hello', ',', '', ' ', 'this', ' ', 'is', ' ', 'to', ' ', 'be', ' ', 'split', ' ', 'into', ' ', 'tokens', '.', '', ' ', 'Every', ' ', 'time', ' ', 'a', ' ', 'whitespace', ' ', 'is', ' ', 'encountered', ',', '', ' ', 'a', ' ', 'split', ' ', 'is', ' ', 'done', '.', '']\n",
      "\n",
      "\n",
      "\n",
      "\n",
      "\n",
      " This is example 3\n",
      "['Hello', '', 'this', 'is', 'to', 'be', 'split', 'into', 'tokens', '', 'Every', 'time', 'a', 'whitespace', 'is', 'encountered', '', 'a', 'split', 'is', 'done', '']\n",
      "\n",
      "\n",
      "\n",
      "['Hello,', 'this', 'is', 'to', 'be', 'split', 'into', 'tokens.', 'Every', 'time', 'a', 'whitespace', 'is', 'encountered,', 'a', 'split', 'is', 'done.']\n"
     ]
    }
   ],
   "source": [
    "import re\n",
    "\n",
    "# Example code showing how re works\n",
    "text = \"Hello, this is to be split into tokens. Every time a whitespace is encountered, a split is done.\"\n",
    "#the .split function is the splitting function. The \\s tells the code to split wherever there is a white space. The whitespaces themselves are \n",
    "# counterd as a token\n",
    "result = re.split(r'(\\s)', text)\n",
    "\n",
    "print(\"This is the result of splitting when you split only according to whitespces-->\\n\")\n",
    "print(result)\n",
    "\n",
    "# Example 2\n",
    "result1= re.split(r'([,.]|\\s)',text)\n",
    "print(\"\\n\\n\\nThis is the result of splotting when you want to with multiple things-->\\n\")\n",
    "print(result1)\n",
    "\n",
    "# Example 3\n",
    "result2 = re.split(r'[,.]|\\s', text)\n",
    "print(\"\\n\\n\\n\\n\\n This is example 3\")\n",
    "print(result2)\n",
    "print(\"\\n\\n\")\n",
    "\n",
    "\n",
    "defaultResult = text.split()\n",
    "print(defaultResult)"
   ]
  },
  {
   "cell_type": "markdown",
   "id": "c704219f-83f1-4d46-9d1c-d09e90d6b433",
   "metadata": {},
   "source": [
    "#### This is how to iterate through a list. The .split function returns a list and if we want to eliminate the whitespces from that we must iterate through the list and an item.strip is 0 for whitespaces so we can use that to identify them"
   ]
  },
  {
   "cell_type": "code",
   "execution_count": 29,
   "id": "cbdb2efe-4620-475b-9458-fdba6e78cd10",
   "metadata": {},
   "outputs": [
    {
     "name": "stdout",
     "output_type": "stream",
     "text": [
      "['Hello', ',', 'this', 'is', 'to', 'be', 'split', 'into', 'tokens', '.', 'Every', 'time', 'a', 'whitespace', 'is', 'encountered', ',', 'a', 'split', 'is', 'done', '.']\n"
     ]
    }
   ],
   "source": [
    "realListWithoutSpaces = []\n",
    "for item in result1:\n",
    "    if len(item.strip()) == 0:\n",
    "        \n",
    "        continue\n",
    "    else :\n",
    "        realListWithoutSpaces.append(item)\n",
    "print(realListWithoutSpaces)"
   ]
  },
  {
   "cell_type": "markdown",
   "id": "266dad94-7c9d-4b8a-8727-2096505d0a28",
   "metadata": {},
   "source": [
    "##### Or a simpler way though a bit more technical"
   ]
  },
  {
   "cell_type": "code",
   "execution_count": 30,
   "id": "149ac703-342f-4aa8-aab1-9bf0bc7237a7",
   "metadata": {},
   "outputs": [
    {
     "name": "stdout",
     "output_type": "stream",
     "text": [
      "['Hello,', 'this', 'is', 'to', 'be', 'split', 'into', 'tokens.', 'Every', 'time', 'a', 'whitespace', 'is', 'encountered,', 'a', 'split', 'is', 'done.']\n"
     ]
    }
   ],
   "source": [
    "result = [item for item in result if item.strip()]\n",
    "print(result)"
   ]
  },
  {
   "cell_type": "markdown",
   "id": "3a1fc2d4-0e11-4cc1-afb0-3166912edfe7",
   "metadata": {},
   "source": [
    "## Now actually applying what we learnt above to split the 'raw text' from the book"
   ]
  },
  {
   "cell_type": "code",
   "execution_count": 18,
   "id": "45d90b7b-47aa-42e4-9cbe-ead2fc6cbc30",
   "metadata": {},
   "outputs": [
    {
     "name": "stdout",
     "output_type": "stream",
     "text": [
      "['A', 'cock', 'was', 'once', 'strutting', 'up', 'and', 'down', 'the', 'farmyard', 'among', 'the', 'hens', 'when', 'suddenly', 'he', 'espied', 'something', 'shinning', 'amid', 'the', 'straw', '.', '“Ho', '!', 'ho', '!', '”', 'quoth', 'he']\n"
     ]
    }
   ],
   "source": [
    "#splitting everything\n",
    "preprocessed = re.split(r'([, .:;?_! \"()\\']| -- |\\s)', raw_text)\n",
    "\n",
    "#removing all the whitespaces\n",
    "preprocessed = [item. strip() for item in preprocessed if item.strip()]\n",
    "\n",
    "print(preprocessed[:30])"
   ]
  },
  {
   "cell_type": "code",
   "execution_count": null,
   "id": "e732db66-d68e-4f09-afd3-90c81d8f5a98",
   "metadata": {},
   "outputs": [],
   "source": []
  }
 ],
 "metadata": {
  "kernelspec": {
   "display_name": "Python 3 (ipykernel)",
   "language": "python",
   "name": "python3"
  },
  "language_info": {
   "codemirror_mode": {
    "name": "ipython",
    "version": 3
   },
   "file_extension": ".py",
   "mimetype": "text/x-python",
   "name": "python",
   "nbconvert_exporter": "python",
   "pygments_lexer": "ipython3",
   "version": "3.8.10"
  }
 },
 "nbformat": 4,
 "nbformat_minor": 5
}
